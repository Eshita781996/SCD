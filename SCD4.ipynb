{
  "nbformat": 4,
  "nbformat_minor": 0,
  "metadata": {
    "colab": {
      "provenance": [],
      "authorship_tag": "ABX9TyOW/xITuS+Z1GfW7/jNOxbZ",
      "include_colab_link": true
    },
    "kernelspec": {
      "name": "python3",
      "display_name": "Python 3"
    },
    "language_info": {
      "name": "python"
    }
  },
  "cells": [
    {
      "cell_type": "markdown",
      "metadata": {
        "id": "view-in-github",
        "colab_type": "text"
      },
      "source": [
        "<a href=\"https://colab.research.google.com/github/Eshita781996/SCD/blob/main/SCD4.ipynb\" target=\"_parent\"><img src=\"https://colab.research.google.com/assets/colab-badge.svg\" alt=\"Open In Colab\"/></a>"
      ]
    },
    {
      "cell_type": "code",
      "execution_count": null,
      "metadata": {
        "id": "oIOhkR21flmM"
      },
      "outputs": [],
      "source": [
        "!apt-get install openjdk-11-jdk-headless -qq > /dev/null\n",
        "!wget -q https://archive.apache.org/dist/spark/spark-3.0.0/spark-3.0.0-bin-hadoop3.2.tgz\n",
        "!tar xf spark-3.0.0-bin-hadoop3.2.tgz\n",
        "!pip -q install findspark"
      ]
    },
    {
      "cell_type": "code",
      "source": [
        "import os\n",
        "os.environ[\"JAVA_HOME\"] = \"/usr/lib/jvm/java-11-openjdk-amd64\"\n",
        "os.environ[\"SPARK_HOME\"] = \"/content/spark-3.0.0-bin-hadoop3.2\"\n",
        "os.environ['PYSPARK_SUBMIT_ARGS'] = '--packages io.delta:delta-core_2.12:0.7.0 --conf spark.sql.extensions=io.delta.sql.DeltaSparkSessionExtension --conf spark.sql.catalog.spark_catalog=org.apache.spark.sql.delta.catalog.DeltaCatalog pyspark-shell'"
      ],
      "metadata": {
        "id": "83p0FnQRfmft"
      },
      "execution_count": null,
      "outputs": []
    },
    {
      "cell_type": "code",
      "source": [
        "import findspark\n",
        "findspark.init()"
      ],
      "metadata": {
        "id": "KXDwpf0Pfodd"
      },
      "execution_count": null,
      "outputs": []
    },
    {
      "cell_type": "code",
      "source": [
        "from pyspark.sql import SparkSession\n",
        "from pyspark.sql.functions import *\n",
        "spark = SparkSession.builder.appName('delta_session').getOrCreate()"
      ],
      "metadata": {
        "id": "AEI7aJvbf-sc"
      },
      "execution_count": null,
      "outputs": []
    },
    {
      "cell_type": "code",
      "source": [
        "# employees_df = spark.createDataFrame([(1, 'John', 'Sydney', 35000.00),(2, 'Peter', 'Melbourne', 45000.00),(3, 'Sam', 'Sydney',55000.00)],\n",
        "#                                      schema='emp_id int,emp_name string,emp_city string,emp_salary float')\n",
        "\n",
        "employees_delta_df = spark.createDataFrame([(2, 'Peter', 'Melbourne', 25005.00),(5, 'Jessie', 'Brisbane', 23004.0)],\n",
        "                                           schema='emp_id int,emp_name string,emp_city string,emp_salary float')"
      ],
      "metadata": {
        "id": "Xv9isA2sfqXM"
      },
      "execution_count": null,
      "outputs": []
    },
    {
      "cell_type": "code",
      "source": [
        "from delta.tables import *\n",
        "if not DeltaTable.isDeltaTable(spark,'employees'):\n",
        "  employees_delta_df.write.format(\"delta\").save(\"employees\")\n",
        "  if not DeltaTable.isDeltaTable(spark,'employees_history'):\n",
        "    employees_delta_df = employees_delta_df.withColumn('create_Date',current_timestamp())\n",
        "    employees_delta_df.write.format(\"delta\").save(\"employees_history\")\n",
        "else:\n",
        "  deltaTable = DeltaTable.forPath(spark, \"employees\")\n",
        "  deltaTable.alias(\"history\").merge(\n",
        "  employees_delta_df.alias(\"updates\"),\n",
        "  \"history.emp_id = updates.emp_id\").whenMatchedUpdateAll().whenNotMatchedInsertAll().execute()\n",
        "\n",
        "  if not DeltaTable.isDeltaTable(spark,'employees_history'):\n",
        "    employees_delta_df = employees_delta_df.withColumn('create_Date',from_utc_timestamp(current_timestamp(),'IST'))\n",
        "    employees_delta_df.write.format(\"delta\").save(\"employees_history\")\n",
        "  else:\n",
        "    df= spark.sql(\"select INPUT_VIEW.*,from_utc_timestamp(current_timestamp(),'IST') as create_Date \\\n",
        "      from INPUT_VIEW join employees_history on employees_history.emp_id=INPUT_VIEW.emp_id \\\n",
        "      where  employees_history.emp_salary<>INPUT_VIEW.emp_salary \")\n",
        "    df.write.format(\"delta\").mode('append').option(\"mergeSchema\", \"true\").save(\"employees_history\")"
      ],
      "metadata": {
        "id": "v5YMVhv4gO-1"
      },
      "execution_count": null,
      "outputs": []
    },
    {
      "cell_type": "code",
      "source": [
        "spark.read.format(\"delta\").load(\"employees\").show()\n",
        "spark.read.format(\"delta\").load(\"employees_history\").show()"
      ],
      "metadata": {
        "colab": {
          "base_uri": "https://localhost:8080/"
        },
        "id": "EUlFXPhrges8",
        "outputId": "d6b21bca-a733-48dd-bd08-8547c208430b"
      },
      "execution_count": null,
      "outputs": [
        {
          "output_type": "stream",
          "name": "stdout",
          "text": [
            "+------+--------+---------+----------+\n",
            "|emp_id|emp_name| emp_city|emp_salary|\n",
            "+------+--------+---------+----------+\n",
            "|     2|   Peter|Melbourne|   25005.0|\n",
            "|     5|  Jessie| Brisbane|   23004.0|\n",
            "+------+--------+---------+----------+\n",
            "\n",
            "+------+--------+---------+----------+--------------------+\n",
            "|emp_id|emp_name| emp_city|emp_salary|         create_Date|\n",
            "+------+--------+---------+----------+--------------------+\n",
            "|     2|   Peter|Melbourne|   25005.0|2024-01-05 00:26:...|\n",
            "|     2|   Peter|Melbourne|   25005.0|2024-01-05 00:26:...|\n",
            "|     5|  Jessie| Brisbane|   23004.0|2024-01-05 00:26:...|\n",
            "|     2|   Peter|Melbourne|   35005.0|2024-01-05 00:25:...|\n",
            "|     5|  Jessie| Brisbane|   43004.0|2024-01-04 22:58:...|\n",
            "|     2|   Peter|Melbourne|   35002.0|2024-01-04 22:58:...|\n",
            "+------+--------+---------+----------+--------------------+\n",
            "\n"
          ]
        }
      ]
    }
  ]
}