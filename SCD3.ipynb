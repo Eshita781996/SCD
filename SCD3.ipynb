{
  "nbformat": 4,
  "nbformat_minor": 0,
  "metadata": {
    "colab": {
      "provenance": [],
      "authorship_tag": "ABX9TyOPAtw1m2Z9Odv53CBDOZo3",
      "include_colab_link": true
    },
    "kernelspec": {
      "name": "python3",
      "display_name": "Python 3"
    },
    "language_info": {
      "name": "python"
    }
  },
  "cells": [
    {
      "cell_type": "markdown",
      "metadata": {
        "id": "view-in-github",
        "colab_type": "text"
      },
      "source": [
        "<a href=\"https://colab.research.google.com/github/Eshita781996/SCD/blob/main/SCD3.ipynb\" target=\"_parent\"><img src=\"https://colab.research.google.com/assets/colab-badge.svg\" alt=\"Open In Colab\"/></a>"
      ]
    },
    {
      "cell_type": "code",
      "execution_count": null,
      "metadata": {
        "id": "oIOhkR21flmM"
      },
      "outputs": [],
      "source": [
        "!apt-get install openjdk-11-jdk-headless -qq > /dev/null\n",
        "!wget -q https://archive.apache.org/dist/spark/spark-3.0.0/spark-3.0.0-bin-hadoop3.2.tgz\n",
        "!tar xf spark-3.0.0-bin-hadoop3.2.tgz\n",
        "!pip -q install findspark"
      ]
    },
    {
      "cell_type": "code",
      "source": [
        "import os\n",
        "os.environ[\"JAVA_HOME\"] = \"/usr/lib/jvm/java-11-openjdk-amd64\"\n",
        "os.environ[\"SPARK_HOME\"] = \"/content/spark-3.0.0-bin-hadoop3.2\"\n",
        "os.environ['PYSPARK_SUBMIT_ARGS'] = '--packages io.delta:delta-core_2.12:0.7.0 --conf spark.sql.extensions=io.delta.sql.DeltaSparkSessionExtension --conf spark.sql.catalog.spark_catalog=org.apache.spark.sql.delta.catalog.DeltaCatalog pyspark-shell'"
      ],
      "metadata": {
        "id": "83p0FnQRfmft"
      },
      "execution_count": null,
      "outputs": []
    },
    {
      "cell_type": "code",
      "source": [
        "import findspark\n",
        "findspark.init()"
      ],
      "metadata": {
        "id": "KXDwpf0Pfodd"
      },
      "execution_count": null,
      "outputs": []
    },
    {
      "cell_type": "code",
      "source": [
        "from pyspark.sql import SparkSession\n",
        "from pyspark.sql.functions import *\n",
        "spark = SparkSession.builder.appName('delta_session').getOrCreate()"
      ],
      "metadata": {
        "id": "AEI7aJvbf-sc"
      },
      "execution_count": null,
      "outputs": []
    },
    {
      "cell_type": "code",
      "source": [
        "# employees_df = spark.createDataFrame([(1, 'John', 'Sydney', 35000.00),(2, 'Peter', 'Melbourne', 45000.00),(3, 'Sam', 'Sydney',55000.00)],\n",
        "#                                      schema='emp_id int,emp_name string,emp_city string,emp_salary float')\n",
        "\n",
        "employees_delta_df = spark.createDataFrame([(1, 'Max', 'Melbourne', 55002.00),(4, 'Bella', 'Brisbane', 48002.00),(3, 'Yen', 'Melbourne', 55002.00)],\n",
        "                                           schema='emp_id int,emp_name string,emp_city string,emp_salary float')"
      ],
      "metadata": {
        "id": "Xv9isA2sfqXM"
      },
      "execution_count": null,
      "outputs": []
    },
    {
      "cell_type": "code",
      "source": [
        "employees_delta_df.createOrReplaceTempView('INPUT_VIEW')"
      ],
      "metadata": {
        "id": "WYcUFeQ0fsin"
      },
      "execution_count": null,
      "outputs": []
    },
    {
      "cell_type": "code",
      "source": [
        "employees_delta_df.show()"
      ],
      "metadata": {
        "id": "v5YMVhv4gO-1",
        "colab": {
          "base_uri": "https://localhost:8080/"
        },
        "outputId": "944ab104-ce1d-4c07-dc00-bb5072de77d0"
      },
      "execution_count": null,
      "outputs": [
        {
          "output_type": "stream",
          "name": "stdout",
          "text": [
            "+------+--------+---------+----------+\n",
            "|emp_id|emp_name| emp_city|emp_salary|\n",
            "+------+--------+---------+----------+\n",
            "|     1|     Max|Melbourne|   55002.0|\n",
            "|     4|   Bella| Brisbane|   48002.0|\n",
            "|     3|     Yen|Melbourne|   55002.0|\n",
            "+------+--------+---------+----------+\n",
            "\n"
          ]
        }
      ]
    },
    {
      "cell_type": "code",
      "source": [
        "#For the first time\n",
        "from delta.tables import *\n",
        "if not DeltaTable.isDeltaTable(spark,'employees'):\n",
        "  employees_delta_df = employees_delta_df.withColumn('old_emp_salary',employees_delta_df['emp_salary'])\n",
        "  employees_delta_df = employees_delta_df.withColumn('old_emp_city',employees_delta_df['emp_city'])\n",
        "  employees_delta_df.write.format(\"delta\").save(\"employees\")\n",
        "else:\n",
        "  df = spark.read.format(\"delta\").load(\"employees\")\n",
        "  df.createOrReplaceTempView('employees')\n",
        "  DF_STAGED_UPDATE = spark.sql(f\"merge into employees using INPUT_VIEW on employees.emp_id=INPUT_VIEW.emp_id\\\n",
        "   when matched and (employees.emp_salary<>INPUT_VIEW.emp_salary ) and employees.emp_id=INPUT_VIEW.emp_id \\\n",
        "  then update set employees.emp_salary=INPUT_VIEW.emp_salary   when not matched then insert (emp_id,emp_name,emp_city,emp_salary,old_emp_city,old_emp_salary) \\\n",
        "  VALUES (INPUT_VIEW.emp_id,INPUT_VIEW.emp_name,INPUT_VIEW.emp_city,INPUT_VIEW.emp_salary,INPUT_VIEW.emp_city,INPUT_VIEW.emp_salary) \")\n",
        "  df = spark.sql('select * from employees')\n",
        "  df.show()\n",
        "  df.write.format(\"delta\").mode(\"overwrite\").save(\"employees\")\n"
      ],
      "metadata": {
        "colab": {
          "base_uri": "https://localhost:8080/"
        },
        "id": "EUlFXPhrges8",
        "outputId": "4144f739-eb99-4dfe-dab1-93247de7f409"
      },
      "execution_count": null,
      "outputs": [
        {
          "output_type": "stream",
          "name": "stdout",
          "text": [
            "+------+--------+---------+----------+------------+--------------+\n",
            "|emp_id|emp_name| emp_city|emp_salary|old_emp_city|old_emp_salary|\n",
            "+------+--------+---------+----------+------------+--------------+\n",
            "|     2|  Jessie| Brisbane|   48001.0|    Brisbane|       48001.0|\n",
            "|     4|   Bella| Brisbane|   48002.0|    Brisbane|       48001.0|\n",
            "|     3|     Yen|Melbourne|   55002.0|   Melbourne|       55002.0|\n",
            "|     1|     Max|Melbourne|   55002.0|   Melbourne|       55001.0|\n",
            "+------+--------+---------+----------+------------+--------------+\n",
            "\n"
          ]
        }
      ]
    },
    {
      "cell_type": "code",
      "source": [
        "spark.read.format(\"delta\").load(\"employees\").show()"
      ],
      "metadata": {
        "colab": {
          "base_uri": "https://localhost:8080/"
        },
        "id": "nK_0MGUP4_19",
        "outputId": "7f50b89c-b21a-409a-b3f5-2fcedda1187a"
      },
      "execution_count": null,
      "outputs": [
        {
          "output_type": "stream",
          "name": "stdout",
          "text": [
            "+------+--------+---------+----------+------------+--------------+\n",
            "|emp_id|emp_name| emp_city|emp_salary|old_emp_city|old_emp_salary|\n",
            "+------+--------+---------+----------+------------+--------------+\n",
            "|     2|  Jessie| Brisbane|   48001.0|    Brisbane|       48001.0|\n",
            "|     4|   Bella| Brisbane|   48002.0|    Brisbane|       48001.0|\n",
            "|     3|     Yen|Melbourne|   55002.0|   Melbourne|       55002.0|\n",
            "|     1|     Max|Melbourne|   55002.0|   Melbourne|       55001.0|\n",
            "+------+--------+---------+----------+------------+--------------+\n",
            "\n"
          ]
        }
      ]
    }
  ]
}