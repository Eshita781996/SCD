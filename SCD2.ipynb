{
  "nbformat": 4,
  "nbformat_minor": 0,
  "metadata": {
    "colab": {
      "provenance": [],
      "authorship_tag": "ABX9TyM2/eLlnd792lWSVmGQFmMS",
      "include_colab_link": true
    },
    "kernelspec": {
      "name": "python3",
      "display_name": "Python 3"
    },
    "language_info": {
      "name": "python"
    }
  },
  "cells": [
    {
      "cell_type": "markdown",
      "metadata": {
        "id": "view-in-github",
        "colab_type": "text"
      },
      "source": [
        "<a href=\"https://colab.research.google.com/github/Eshita781996/SCD/blob/main/SCD2.ipynb\" target=\"_parent\"><img src=\"https://colab.research.google.com/assets/colab-badge.svg\" alt=\"Open In Colab\"/></a>"
      ]
    },
    {
      "cell_type": "code",
      "execution_count": null,
      "metadata": {
        "id": "oIOhkR21flmM"
      },
      "outputs": [],
      "source": [
        "!apt-get install openjdk-11-jdk-headless -qq > /dev/null\n",
        "!wget -q https://archive.apache.org/dist/spark/spark-3.0.0/spark-3.0.0-bin-hadoop3.2.tgz\n",
        "!tar xf spark-3.0.0-bin-hadoop3.2.tgz\n",
        "!pip -q install findspark"
      ]
    },
    {
      "cell_type": "code",
      "source": [
        "import os\n",
        "os.environ[\"JAVA_HOME\"] = \"/usr/lib/jvm/java-11-openjdk-amd64\"\n",
        "os.environ[\"SPARK_HOME\"] = \"/content/spark-3.0.0-bin-hadoop3.2\"\n",
        "os.environ['PYSPARK_SUBMIT_ARGS'] = '--packages io.delta:delta-core_2.12:0.7.0 --conf spark.sql.extensions=io.delta.sql.DeltaSparkSessionExtension --conf spark.sql.catalog.spark_catalog=org.apache.spark.sql.delta.catalog.DeltaCatalog pyspark-shell'"
      ],
      "metadata": {
        "id": "83p0FnQRfmft"
      },
      "execution_count": null,
      "outputs": []
    },
    {
      "cell_type": "code",
      "source": [
        "import findspark\n",
        "findspark.init()"
      ],
      "metadata": {
        "id": "KXDwpf0Pfodd"
      },
      "execution_count": null,
      "outputs": []
    },
    {
      "cell_type": "code",
      "source": [
        "from pyspark.sql import SparkSession\n",
        "from pyspark.sql.functions import *\n",
        "spark = SparkSession.builder.appName('delta_session').getOrCreate()"
      ],
      "metadata": {
        "id": "AEI7aJvbf-sc"
      },
      "execution_count": null,
      "outputs": []
    },
    {
      "cell_type": "code",
      "source": [
        "# employees_df = spark.createDataFrame([(1, 'John', 'Sydney', 35000.00),(2, 'Peter', 'Melbourne', 45000.00),(3, 'Sam', 'Sydney',55000.00)],\n",
        "#                                      schema='emp_id int,emp_name string,emp_city string,emp_salary float')\n",
        "\n",
        "employees_delta_df = spark.createDataFrame([(4, 'Max', 'Melbourne', 55001.00),(5, 'Jessie', 'Brisbane', 48001.00)],\n",
        "                                           schema='emp_id int,emp_name string,emp_city string,emp_salary float')"
      ],
      "metadata": {
        "id": "Xv9isA2sfqXM"
      },
      "execution_count": null,
      "outputs": []
    },
    {
      "cell_type": "code",
      "source": [
        "employees_delta_df.createOrReplaceTempView('INPUT_VIEW')"
      ],
      "metadata": {
        "id": "WYcUFeQ0fsin"
      },
      "execution_count": null,
      "outputs": []
    },
    {
      "cell_type": "code",
      "source": [
        "employees_delta_df.show()"
      ],
      "metadata": {
        "id": "v5YMVhv4gO-1",
        "colab": {
          "base_uri": "https://localhost:8080/"
        },
        "outputId": "91f07b10-e3e3-497b-fc95-182304817d7c"
      },
      "execution_count": null,
      "outputs": [
        {
          "output_type": "stream",
          "name": "stdout",
          "text": [
            "+------+--------+---------+----------+\n",
            "|emp_id|emp_name| emp_city|emp_salary|\n",
            "+------+--------+---------+----------+\n",
            "|     4|     Max|Melbourne|   55001.0|\n",
            "|     5|  Jessie| Brisbane|   48001.0|\n",
            "+------+--------+---------+----------+\n",
            "\n"
          ]
        }
      ]
    },
    {
      "cell_type": "code",
      "source": [
        "#For the first time\n",
        "from delta.tables import *\n",
        "if not DeltaTable.isDeltaTable(spark,'employees'):\n",
        "  employees_delta_df.createOrReplaceTempView('v')\n",
        "  df = spark.sql('select *,from_utc_timestamp(current_timestamp(),\"IST\") as dw_insert_ts,from_utc_timestamp(current_timestamp(),\"IST\") as dw_update_ts,\"Y\" as active_flag from v')\n",
        "  df.write.format(\"delta\").save(\"employees\")\n",
        "else:\n",
        "  df = spark.read.format(\"delta\").load(\"employees\")\n",
        "  df.createOrReplaceTempView('employees')\n",
        "  DF_STAGED_UPDATE = spark.sql(f\"merge into employees using ( select INPUT_VIEW.emp_id as mergerkey0,INPUT_VIEW.*,from_utc_timestamp(current_timestamp(),'IST') as dw_insert_ts,from_utc_timestamp(current_timestamp(),'IST') as dw_update_ts,'Y' as active_flag from INPUT_VIEW \\\n",
        "  union all select NULL as mergerkey0, INPUT_VIEW.*,from_utc_timestamp(current_timestamp(),'IST') as dw_insert_ts,from_utc_timestamp(current_timestamp(),'IST') as dw_update_ts,employees.active_flag from INPUT_VIEW join employees on employees.emp_id=INPUT_VIEW.emp_id where employees.active_flag ='Y' and \\\n",
        "  employees.emp_salary<>INPUT_VIEW.emp_salary ) staged_updates \\\n",
        "  on employees.emp_id = staged_updates.mergerkey0 and  employees.active_flag='Y' \\\n",
        "  when matched and employees.active_flag='Y' and  \\\n",
        "  employees.emp_salary<>staged_updates.emp_salary and employees.emp_id=staged_updates.emp_id \\\n",
        "  then update set active_flag='N',dw_update_ts = from_utc_timestamp(current_timestamp(),'IST') \\\n",
        "  when not matched then insert *\")\n",
        "  df = spark.sql('select * from employees')\n",
        "  df.show()\n",
        "  df.write.format(\"delta\").mode(\"overwrite\").save(\"employees\")\n"
      ],
      "metadata": {
        "colab": {
          "base_uri": "https://localhost:8080/"
        },
        "id": "EUlFXPhrges8",
        "outputId": "738d282c-a5da-4f9b-86b7-0037a703ee48"
      },
      "execution_count": null,
      "outputs": [
        {
          "output_type": "stream",
          "name": "stdout",
          "text": [
            "+------+--------+---------+----------+--------------------+--------------------+-----------+\n",
            "|emp_id|emp_name| emp_city|emp_salary|        dw_insert_ts|        dw_update_ts|active_flag|\n",
            "+------+--------+---------+----------+--------------------+--------------------+-----------+\n",
            "|     5|  Jessie| Brisbane|   48000.0|2024-01-04 20:02:...|2024-01-04 20:22:...|          N|\n",
            "|     5|  Jessie| Brisbane|   42000.0|2024-01-04 20:02:...|2024-01-04 20:17:...|          N|\n",
            "|     4|     Max|Melbourne|   55000.0|2024-01-04 20:17:...|2024-01-04 20:22:...|          N|\n",
            "|     4|     Max|Melbourne|   55001.0|2024-01-04 20:22:...|2024-01-04 20:22:...|          Y|\n",
            "|     5|  Jessie| Brisbane|   48001.0|2024-01-04 20:22:...|2024-01-04 20:22:...|          Y|\n",
            "|     2|   Peter|Melbourne|   55000.0|2024-01-04 19:07:...|2024-01-04 19:07:...|          Y|\n",
            "|     2|   Peter|Melbourne|   45000.0|2024-01-04 19:07:...|2024-01-04 20:02:...|          N|\n",
            "|     1|    John|   Sydney|   35000.0|2024-01-04 19:07:...|2024-01-04 19:07:...|          Y|\n",
            "|     3|     Sam|   Sydney|   55000.0|2024-01-04 19:07:...|2024-01-04 19:07:...|          Y|\n",
            "+------+--------+---------+----------+--------------------+--------------------+-----------+\n",
            "\n"
          ]
        }
      ]
    },
    {
      "cell_type": "code",
      "source": [],
      "metadata": {
        "id": "rrkZFf6Yq7fm"
      },
      "execution_count": null,
      "outputs": []
    },
    {
      "cell_type": "code",
      "source": [
        "spark.read.format(\"delta\").load(\"employees\").show()"
      ],
      "metadata": {
        "colab": {
          "base_uri": "https://localhost:8080/"
        },
        "id": "nK_0MGUP4_19",
        "outputId": "3af35e22-7df8-4f47-fafd-08b0a2bdec43"
      },
      "execution_count": null,
      "outputs": [
        {
          "output_type": "stream",
          "name": "stdout",
          "text": [
            "+------+--------+---------+----------+--------------------+--------------------+-----------+\n",
            "|emp_id|emp_name| emp_city|emp_salary|        dw_insert_ts|        dw_update_ts|active_flag|\n",
            "+------+--------+---------+----------+--------------------+--------------------+-----------+\n",
            "|     1|    John|   Sydney|   35000.0|2024-01-04 19:07:...|2024-01-04 19:07:...|          Y|\n",
            "|     3|     Sam|   Sydney|   55000.0|2024-01-04 19:07:...|2024-01-04 19:07:...|          Y|\n",
            "|     5|  Jessie| Brisbane|   48000.0|2024-01-04 20:02:...|2024-01-04 20:22:...|          N|\n",
            "|     5|  Jessie| Brisbane|   42000.0|2024-01-04 20:02:...|2024-01-04 20:17:...|          N|\n",
            "|     4|     Max|Melbourne|   55000.0|2024-01-04 20:17:...|2024-01-04 20:22:...|          N|\n",
            "|     4|     Max|Melbourne|   55001.0|2024-01-04 20:22:...|2024-01-04 20:22:...|          Y|\n",
            "|     5|  Jessie| Brisbane|   48001.0|2024-01-04 20:22:...|2024-01-04 20:22:...|          Y|\n",
            "|     2|   Peter|Melbourne|   55000.0|2024-01-04 19:07:...|2024-01-04 19:07:...|          Y|\n",
            "|     2|   Peter|Melbourne|   45000.0|2024-01-04 19:07:...|2024-01-04 20:02:...|          N|\n",
            "+------+--------+---------+----------+--------------------+--------------------+-----------+\n",
            "\n"
          ]
        }
      ]
    }
  ]
}